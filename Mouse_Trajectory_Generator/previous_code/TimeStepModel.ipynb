{
 "cells": [
  {
   "cell_type": "code",
   "execution_count": 45,
   "metadata": {},
   "outputs": [],
   "source": [
    "# Necessary Imports\n",
    "import numpy as np\n",
    "import torch\n",
    "import torch.nn as nn\n",
    "from torch.utils.data import DataLoader, Dataset, random_split\n",
    "import matplotlib.pyplot as plt\n",
    "import os\n",
    "import torch.optim as optim\n",
    "from torch.optim.lr_scheduler import StepLR\n",
    "from sklearn.model_selection import train_test_split"
   ]
  },
  {
   "cell_type": "code",
   "execution_count": 2,
   "metadata": {},
   "outputs": [
    {
     "name": "stdout",
     "output_type": "stream",
     "text": [
      "Processed C:/Users/vkuma/School/Rice/DeepLearning/FinalProject/Balabit_MouseDynamicsData/training_files\\user12\\session_2144641057: Extracted 1173 trajectories.\n",
      "Processed C:/Users/vkuma/School/Rice/DeepLearning/FinalProject/Balabit_MouseDynamicsData/training_files\\user12\\session_5265929106: Extracted 1413 trajectories.\n",
      "Processed C:/Users/vkuma/School/Rice/DeepLearning/FinalProject/Balabit_MouseDynamicsData/training_files\\user12\\session_5815391283: Extracted 2311 trajectories.\n",
      "Processed C:/Users/vkuma/School/Rice/DeepLearning/FinalProject/Balabit_MouseDynamicsData/training_files\\user12\\session_7409188284: Extracted 1287 trajectories.\n",
      "Processed C:/Users/vkuma/School/Rice/DeepLearning/FinalProject/Balabit_MouseDynamicsData/training_files\\user12\\session_8872593360: Extracted 1589 trajectories.\n",
      "Processed C:/Users/vkuma/School/Rice/DeepLearning/FinalProject/Balabit_MouseDynamicsData/training_files\\user12\\session_9031593624: Extracted 1800 trajectories.\n",
      "Processed C:/Users/vkuma/School/Rice/DeepLearning/FinalProject/Balabit_MouseDynamicsData/training_files\\user12\\session_9838420452: Extracted 1333 trajectories.\n",
      "Processed C:/Users/vkuma/School/Rice/DeepLearning/FinalProject/Balabit_MouseDynamicsData/training_files\\user15\\session_0205904470: Extracted 757 trajectories.\n",
      "Processed C:/Users/vkuma/School/Rice/DeepLearning/FinalProject/Balabit_MouseDynamicsData/training_files\\user15\\session_1366248436: Extracted 1519 trajectories.\n",
      "Processed C:/Users/vkuma/School/Rice/DeepLearning/FinalProject/Balabit_MouseDynamicsData/training_files\\user15\\session_5657866014: Extracted 883 trajectories.\n",
      "Processed C:/Users/vkuma/School/Rice/DeepLearning/FinalProject/Balabit_MouseDynamicsData/training_files\\user15\\session_6715291950: Extracted 2069 trajectories.\n",
      "Processed C:/Users/vkuma/School/Rice/DeepLearning/FinalProject/Balabit_MouseDynamicsData/training_files\\user15\\session_8694009379: Extracted 1253 trajectories.\n",
      "Processed C:/Users/vkuma/School/Rice/DeepLearning/FinalProject/Balabit_MouseDynamicsData/training_files\\user15\\session_8848361933: Extracted 797 trajectories.\n",
      "Processed C:/Users/vkuma/School/Rice/DeepLearning/FinalProject/Balabit_MouseDynamicsData/training_files\\user16\\session_0735651357: Extracted 3387 trajectories.\n",
      "Processed C:/Users/vkuma/School/Rice/DeepLearning/FinalProject/Balabit_MouseDynamicsData/training_files\\user16\\session_1607878631: Extracted 2338 trajectories.\n",
      "Processed C:/Users/vkuma/School/Rice/DeepLearning/FinalProject/Balabit_MouseDynamicsData/training_files\\user16\\session_1658051584: Extracted 2496 trajectories.\n",
      "Processed C:/Users/vkuma/School/Rice/DeepLearning/FinalProject/Balabit_MouseDynamicsData/training_files\\user16\\session_3012944488: Extracted 3780 trajectories.\n",
      "Processed C:/Users/vkuma/School/Rice/DeepLearning/FinalProject/Balabit_MouseDynamicsData/training_files\\user16\\session_5398005306: Extracted 2153 trajectories.\n",
      "Processed C:/Users/vkuma/School/Rice/DeepLearning/FinalProject/Balabit_MouseDynamicsData/training_files\\user16\\session_6961018175: Extracted 1939 trajectories.\n",
      "Processed C:/Users/vkuma/School/Rice/DeepLearning/FinalProject/Balabit_MouseDynamicsData/training_files\\user20\\session_0214655159: Extracted 506 trajectories.\n",
      "Processed C:/Users/vkuma/School/Rice/DeepLearning/FinalProject/Balabit_MouseDynamicsData/training_files\\user20\\session_0764157160: Extracted 498 trajectories.\n",
      "Processed C:/Users/vkuma/School/Rice/DeepLearning/FinalProject/Balabit_MouseDynamicsData/training_files\\user20\\session_2372891077: Extracted 462 trajectories.\n",
      "Processed C:/Users/vkuma/School/Rice/DeepLearning/FinalProject/Balabit_MouseDynamicsData/training_files\\user20\\session_3767642011: Extracted 264 trajectories.\n",
      "Processed C:/Users/vkuma/School/Rice/DeepLearning/FinalProject/Balabit_MouseDynamicsData/training_files\\user20\\session_7888368102: Extracted 467 trajectories.\n",
      "Processed C:/Users/vkuma/School/Rice/DeepLearning/FinalProject/Balabit_MouseDynamicsData/training_files\\user20\\session_9673196280: Extracted 2260 trajectories.\n",
      "Processed C:/Users/vkuma/School/Rice/DeepLearning/FinalProject/Balabit_MouseDynamicsData/training_files\\user20\\session_9818121880: Extracted 276 trajectories.\n",
      "Processed C:/Users/vkuma/School/Rice/DeepLearning/FinalProject/Balabit_MouseDynamicsData/training_files\\user21\\session_0347800921: Extracted 920 trajectories.\n",
      "Processed C:/Users/vkuma/School/Rice/DeepLearning/FinalProject/Balabit_MouseDynamicsData/training_files\\user21\\session_0639882460: Extracted 1081 trajectories.\n",
      "Processed C:/Users/vkuma/School/Rice/DeepLearning/FinalProject/Balabit_MouseDynamicsData/training_files\\user21\\session_5306911480: Extracted 1549 trajectories.\n",
      "Processed C:/Users/vkuma/School/Rice/DeepLearning/FinalProject/Balabit_MouseDynamicsData/training_files\\user21\\session_6886360376: Extracted 1097 trajectories.\n",
      "Processed C:/Users/vkuma/School/Rice/DeepLearning/FinalProject/Balabit_MouseDynamicsData/training_files\\user21\\session_7001496014: Extracted 1160 trajectories.\n",
      "Processed C:/Users/vkuma/School/Rice/DeepLearning/FinalProject/Balabit_MouseDynamicsData/training_files\\user21\\session_7767882493: Extracted 919 trajectories.\n",
      "Processed C:/Users/vkuma/School/Rice/DeepLearning/FinalProject/Balabit_MouseDynamicsData/training_files\\user21\\session_8505229187: Extracted 1213 trajectories.\n",
      "Processed C:/Users/vkuma/School/Rice/DeepLearning/FinalProject/Balabit_MouseDynamicsData/training_files\\user23\\session_0405064924: Extracted 1284 trajectories.\n",
      "Processed C:/Users/vkuma/School/Rice/DeepLearning/FinalProject/Balabit_MouseDynamicsData/training_files\\user23\\session_1123244103: Extracted 1107 trajectories.\n",
      "Processed C:/Users/vkuma/School/Rice/DeepLearning/FinalProject/Balabit_MouseDynamicsData/training_files\\user23\\session_2080551697: Extracted 1053 trajectories.\n",
      "Processed C:/Users/vkuma/School/Rice/DeepLearning/FinalProject/Balabit_MouseDynamicsData/training_files\\user23\\session_3195683016: Extracted 1004 trajectories.\n",
      "Processed C:/Users/vkuma/School/Rice/DeepLearning/FinalProject/Balabit_MouseDynamicsData/training_files\\user23\\session_7336984763: Extracted 969 trajectories.\n",
      "Processed C:/Users/vkuma/School/Rice/DeepLearning/FinalProject/Balabit_MouseDynamicsData/training_files\\user23\\session_9962419470: Extracted 1359 trajectories.\n",
      "Processed C:/Users/vkuma/School/Rice/DeepLearning/FinalProject/Balabit_MouseDynamicsData/training_files\\user29\\session_0595774526: Extracted 1268 trajectories.\n",
      "Processed C:/Users/vkuma/School/Rice/DeepLearning/FinalProject/Balabit_MouseDynamicsData/training_files\\user29\\session_2786719181: Extracted 940 trajectories.\n",
      "Processed C:/Users/vkuma/School/Rice/DeepLearning/FinalProject/Balabit_MouseDynamicsData/training_files\\user29\\session_3135434116: Extracted 999 trajectories.\n",
      "Processed C:/Users/vkuma/School/Rice/DeepLearning/FinalProject/Balabit_MouseDynamicsData/training_files\\user29\\session_3424156599: Extracted 2090 trajectories.\n",
      "Processed C:/Users/vkuma/School/Rice/DeepLearning/FinalProject/Balabit_MouseDynamicsData/training_files\\user29\\session_4384625557: Extracted 1320 trajectories.\n",
      "Processed C:/Users/vkuma/School/Rice/DeepLearning/FinalProject/Balabit_MouseDynamicsData/training_files\\user29\\session_5396497934: Extracted 999 trajectories.\n",
      "Processed C:/Users/vkuma/School/Rice/DeepLearning/FinalProject/Balabit_MouseDynamicsData/training_files\\user29\\session_8617964668: Extracted 1547 trajectories.\n",
      "Processed C:/Users/vkuma/School/Rice/DeepLearning/FinalProject/Balabit_MouseDynamicsData/training_files\\user35\\session_1909471574: Extracted 1177 trajectories.\n",
      "Processed C:/Users/vkuma/School/Rice/DeepLearning/FinalProject/Balabit_MouseDynamicsData/training_files\\user35\\session_3412209090: Extracted 1008 trajectories.\n",
      "Processed C:/Users/vkuma/School/Rice/DeepLearning/FinalProject/Balabit_MouseDynamicsData/training_files\\user35\\session_5394017914: Extracted 920 trajectories.\n",
      "Processed C:/Users/vkuma/School/Rice/DeepLearning/FinalProject/Balabit_MouseDynamicsData/training_files\\user35\\session_6509784211: Extracted 971 trajectories.\n",
      "Processed C:/Users/vkuma/School/Rice/DeepLearning/FinalProject/Balabit_MouseDynamicsData/training_files\\user35\\session_6820312264: Extracted 852 trajectories.\n",
      "Processed C:/Users/vkuma/School/Rice/DeepLearning/FinalProject/Balabit_MouseDynamicsData/training_files\\user7\\session_0041905381: Extracted 1311 trajectories.\n",
      "Processed C:/Users/vkuma/School/Rice/DeepLearning/FinalProject/Balabit_MouseDynamicsData/training_files\\user7\\session_1060325796: Extracted 692 trajectories.\n",
      "Processed C:/Users/vkuma/School/Rice/DeepLearning/FinalProject/Balabit_MouseDynamicsData/training_files\\user7\\session_3320405034: Extracted 1210 trajectories.\n",
      "Processed C:/Users/vkuma/School/Rice/DeepLearning/FinalProject/Balabit_MouseDynamicsData/training_files\\user7\\session_3826583375: Extracted 911 trajectories.\n",
      "Processed C:/Users/vkuma/School/Rice/DeepLearning/FinalProject/Balabit_MouseDynamicsData/training_files\\user7\\session_6668463071: Extracted 800 trajectories.\n",
      "Processed C:/Users/vkuma/School/Rice/DeepLearning/FinalProject/Balabit_MouseDynamicsData/training_files\\user7\\session_8961330453: Extracted 825 trajectories.\n",
      "Processed C:/Users/vkuma/School/Rice/DeepLearning/FinalProject/Balabit_MouseDynamicsData/training_files\\user7\\session_9017095287: Extracted 1154 trajectories.\n",
      "Processed C:/Users/vkuma/School/Rice/DeepLearning/FinalProject/Balabit_MouseDynamicsData/training_files\\user9\\session_0335985747: Extracted 490 trajectories.\n",
      "Processed C:/Users/vkuma/School/Rice/DeepLearning/FinalProject/Balabit_MouseDynamicsData/training_files\\user9\\session_3390119815: Extracted 572 trajectories.\n",
      "Processed C:/Users/vkuma/School/Rice/DeepLearning/FinalProject/Balabit_MouseDynamicsData/training_files\\user9\\session_3879637058: Extracted 701 trajectories.\n",
      "Processed C:/Users/vkuma/School/Rice/DeepLearning/FinalProject/Balabit_MouseDynamicsData/training_files\\user9\\session_4373781904: Extracted 498 trajectories.\n",
      "Processed C:/Users/vkuma/School/Rice/DeepLearning/FinalProject/Balabit_MouseDynamicsData/training_files\\user9\\session_5155383252: Extracted 557 trajectories.\n",
      "Processed C:/Users/vkuma/School/Rice/DeepLearning/FinalProject/Balabit_MouseDynamicsData/training_files\\user9\\session_7285432516: Extracted 516 trajectories.\n",
      "Processed C:/Users/vkuma/School/Rice/DeepLearning/FinalProject/Balabit_MouseDynamicsData/training_files\\user9\\session_8764610836: Extracted 512 trajectories.\n",
      "Total trajectories extracted from all files: 78565\n"
     ]
    }
   ],
   "source": [
    "# Define the root directory containing all user directories\n",
    "root_directory = \"C:/Users/vkuma/School/Rice/DeepLearning/FinalProject/Balabit_MouseDynamicsData/training_files\"\n",
    "\n",
    "# Initialize a list to store all trajectories from all files\n",
    "all_trajectories = []\n",
    "\n",
    "# Iterate over all directories and files\n",
    "for subdir, _, files in os.walk(root_directory):\n",
    "    for filename in files:\n",
    "        file_path = os.path.join(subdir, filename)\n",
    "        \n",
    "        # Read the data from the file\n",
    "        with open(file_path, 'r') as f:\n",
    "            lines = f.readlines()\n",
    "\n",
    "        # Skip the header and process the rest of the data\n",
    "        data_values = []\n",
    "        state_values = []\n",
    "\n",
    "        for line in lines[1:]:  # Skip the header line\n",
    "            parts = line.strip().split(',')  # Split the line by commas\n",
    "            x = float(parts[4])  # x-coordinate\n",
    "            y = float(parts[5])  # y-coordinate\n",
    "            client_timestamp = float(parts[1])  # client timestamp\n",
    "            state = parts[3]  # State (e.g., \"Move\", \"Pressed\")\n",
    "            \n",
    "            data_values.append([x, y, client_timestamp])\n",
    "            state_values.append(state)\n",
    "\n",
    "        # Convert to NumPy arrays\n",
    "        data = np.array(data_values)\n",
    "        state_values = np.array(state_values)\n",
    "\n",
    "        # Trajectory extraction for this file\n",
    "        trajectories = []\n",
    "        current_trajectory = []\n",
    "\n",
    "        for i in range(len(data)):\n",
    "            if state_values[i] == \"Move\":  # Only include points with state == \"Move\"\n",
    "                current_trajectory.append(data[i])\n",
    "            else:\n",
    "                # If the state changes from \"Move\", save the current trajectory\n",
    "                if current_trajectory:\n",
    "                    trajectories.append(np.array(current_trajectory))\n",
    "                    current_trajectory = []\n",
    "\n",
    "        # Save the last trajectory if it exists\n",
    "        if current_trajectory:\n",
    "            trajectories.append(np.array(current_trajectory))\n",
    "\n",
    "        # Add trajectories from this file to the global list\n",
    "        all_trajectories.extend(trajectories)\n",
    "\n",
    "        # Print summary for this file\n",
    "        print(f\"Processed {file_path}: Extracted {len(trajectories)} trajectories.\")\n",
    "\n",
    "# Display total results across all files\n",
    "print(f\"Total trajectories extracted from all files: {len(all_trajectories)}\")"
   ]
  },
  {
   "cell_type": "code",
   "execution_count": null,
   "metadata": {},
   "outputs": [
    {
     "name": "stdout",
     "output_type": "stream",
     "text": [
      "Number of filtered trajectories (length 25+ and all x, y < 1000): 15498\n"
     ]
    }
   ],
   "source": [
    "# Filter trajectories for length 50+ and trim to 50 points\n",
    "filtered_trajectories = []\n",
    "\n",
    "for traj in all_trajectories:\n",
    "    if len(traj) >= 25:  # Check if the trajectory has at least 50 points\n",
    "        x_values = traj[:, 0]\n",
    "        y_values = traj[:, 1]\n",
    "        # Ensure all points are in a reasonable range for normalization\n",
    "        if np.all(x_values < 1000) and np.all(y_values < 1000):\n",
    "            filtered_trajectories.append(traj[:25])  # Trim to exactly 50 points\n",
    "\n",
    "# Print the results\n",
    "print(f\"Number of filtered trajectories (length 25+ and all x, y < 1000): {len(filtered_trajectories)}\")"
   ]
  },
  {
   "cell_type": "code",
   "execution_count": 4,
   "metadata": {},
   "outputs": [
    {
     "data": {
      "image/png": "[encoded data removed]",
      "text/plain": [
       "<Figure size 1000x600 with 1 Axes>"
      ]
     },
     "metadata": {},
     "output_type": "display_data"
    }
   ],
   "source": [
    "# Calculate the lengths of all trajectories\n",
    "trajectory_lengths = [len(traj) for traj in filtered_trajectories]\n",
    "\n",
    "# Plot the histogram\n",
    "plt.figure(figsize=(10, 6))\n",
    "plt.hist(trajectory_lengths, bins=20, edgecolor='black', alpha=0.7)\n",
    "plt.title(\"Histogram of Trajectory Lengths\")\n",
    "plt.xlabel(\"Trajectory Length\")\n",
    "plt.ylabel(\"Frequency\")\n",
    "plt.grid(axis='y', linestyle='--', alpha=0.7)\n",
    "plt.show()"
   ]
  },
  {
   "cell_type": "code",
   "execution_count": 28,
   "metadata": {},
   "outputs": [],
   "source": [
    "# Rescale each trajectory to start at (0, 0, 0)\n",
    "rescaled_trajectories = []\n",
    "\n",
    "for traj in filtered_trajectories:\n",
    "    start_point = traj[0]  # Starting point (x, y, t)\n",
    "    rescaled_traj = traj - start_point  # Subtract the starting point from all points\n",
    "    rescaled_trajectories.append(rescaled_traj)\n",
    "\n",
    "# Convert to a NumPy array for training\n",
    "rescaled_trajectories = np.array(rescaled_trajectories)\n",
    "\n",
    "# Calculate the maximum values for x and y\n",
    "max_x = np.max([np.max(np.abs(rescaled_trajectories[i][:, 0])) for i in range(len(rescaled_trajectories))])\n",
    "max_y = np.max([np.max(np.abs(rescaled_trajectories[i][:, 1])) for i in range(len(rescaled_trajectories))])\n",
    "\n",
    "# Scale each trajectory's x and y values between [-1, 1]\n",
    "for i in range(len(rescaled_trajectories)):\n",
    "    # Scale the x (first column) and y (second column) of each trajectory\n",
    "    rescaled_trajectories[i][:, 0] /= max_x  # Scale x by max_x\n",
    "    rescaled_trajectories[i][:, 1] /= max_y  # Scale y by max_y"
   ]
  },
  {
   "cell_type": "code",
   "execution_count": 46,
   "metadata": {},
   "outputs": [],
   "source": [
    "# Compute step sizes and time differences\n",
    "step_sizes = []\n",
    "time_differences = []\n",
    "\n",
    "for traj in rescaled_trajectories:\n",
    "    dx = np.diff(traj[:, 0])\n",
    "    dy = np.diff(traj[:, 1])\n",
    "    dt = np.diff(traj[:, 2])\n",
    "\n",
    "    steps = np.sqrt(dx**2 + dy**2)\n",
    "    step_sizes.extend(steps)\n",
    "    time_differences.extend(dt)\n",
    "\n",
    "# Convert to NumPy arrays\n",
    "step_sizes = np.array(step_sizes)\n",
    "time_differences = np.array(time_differences)"
   ]
  },
  {
   "cell_type": "code",
   "execution_count": 47,
   "metadata": {},
   "outputs": [
    {
     "name": "stdout",
     "output_type": "stream",
     "text": [
      "Training set size: 260366\n",
      "Validation set size: 55793\n",
      "Test set size: 55793\n"
     ]
    }
   ],
   "source": [
    "# First split: 70% training, 30% temporary (val + test)\n",
    "X_train, X_temp, y_train, y_temp = train_test_split(\n",
    "    step_sizes, time_differences, test_size=0.3, random_state=42\n",
    ")\n",
    "\n",
    "# Second split: 50% validation, 50% test from the temporary set\n",
    "X_val, X_test, y_val, y_test = train_test_split(\n",
    "    X_temp, y_temp, test_size=0.5, random_state=42\n",
    ")\n",
    "\n",
    "# Print sizes for confirmation\n",
    "print(f\"Training set size: {len(X_train)}\")\n",
    "print(f\"Validation set size: {len(X_val)}\")\n",
    "print(f\"Test set size: {len(X_test)}\")"
   ]
  },
  {
   "cell_type": "code",
   "execution_count": 48,
   "metadata": {},
   "outputs": [],
   "source": [
    "# Define the Dataset class\n",
    "class TrajectoryDataset(Dataset):\n",
    "    def __init__(self, features, targets):\n",
    "        self.features = torch.tensor(features, dtype=torch.float32).unsqueeze(1)\n",
    "        self.targets = torch.tensor(targets, dtype=torch.float32).unsqueeze(1)\n",
    "\n",
    "    def __len__(self):\n",
    "        return len(self.features)\n",
    "\n",
    "    def __getitem__(self, idx):\n",
    "        return self.features[idx], self.targets[idx]\n",
    "\n",
    "# Create datasets\n",
    "train_dataset = TrajectoryDataset(X_train, y_train)\n",
    "val_dataset = TrajectoryDataset(X_val, y_val)\n",
    "test_dataset = TrajectoryDataset(X_test, y_test)\n",
    "\n",
    "# Create data loaders\n",
    "train_loader = DataLoader(train_dataset, batch_size=32, shuffle=True)\n",
    "val_loader = DataLoader(val_dataset, batch_size=32, shuffle=False)\n",
    "test_loader = DataLoader(test_dataset, batch_size=32, shuffle=False)"
   ]
  },
  {
   "cell_type": "code",
   "execution_count": 49,
   "metadata": {},
   "outputs": [],
   "source": [
    "import torch.nn as nn\n",
    "import torch.optim as optim\n",
    "\n",
    "class StepToTimeModel(nn.Module):\n",
    "    def __init__(self):\n",
    "        super(StepToTimeModel, self).__init__()\n",
    "        self.network = nn.Sequential(\n",
    "            nn.Linear(1, 64),\n",
    "            nn.ReLU(),\n",
    "            nn.Linear(64, 32),\n",
    "            nn.ReLU(),\n",
    "            nn.Linear(32, 1)\n",
    "        )\n",
    "\n",
    "    def forward(self, x):\n",
    "        return self.network(x)\n",
    "\n",
    "# Instantiate the model\n",
    "model = StepToTimeModel()"
   ]
  },
  {
   "cell_type": "code",
   "execution_count": 52,
   "metadata": {},
   "outputs": [],
   "source": [
    "# Loss function and optimizer\n",
    "criterion = nn.MSELoss()\n",
    "optimizer = optim.Adam(model.parameters(), lr=0.01)"
   ]
  },
  {
   "cell_type": "code",
   "execution_count": 53,
   "metadata": {},
   "outputs": [
    {
     "name": "stdout",
     "output_type": "stream",
     "text": [
      "Epoch 1/100, Train Loss: 70.4076, Validation Loss: 358.8600\n",
      "Epoch 2/100, Train Loss: 69.9061, Validation Loss: 358.8752\n",
      "Epoch 3/100, Train Loss: 69.1844, Validation Loss: 363.2313\n",
      "Epoch 4/100, Train Loss: 69.6712, Validation Loss: 359.1458\n",
      "Epoch 5/100, Train Loss: 69.2617, Validation Loss: 359.4364\n",
      "Epoch 6/100, Train Loss: 69.3258, Validation Loss: 358.8715\n",
      "Epoch 7/100, Train Loss: 68.9698, Validation Loss: 361.6862\n",
      "Epoch 8/100, Train Loss: 69.5877, Validation Loss: 359.0093\n"
     ]
    },
    {
     "ename": "KeyboardInterrupt",
     "evalue": "",
     "output_type": "error",
     "traceback": [
      "\u001b[1;31m---------------------------------------------------------------------------\u001b[0m",
      "\u001b[1;31mKeyboardInterrupt\u001b[0m                         Traceback (most recent call last)",
      "Cell \u001b[1;32mIn[53], line 12\u001b[0m\n\u001b[0;32m     10\u001b[0m     loss \u001b[38;5;241m=\u001b[39m criterion(outputs, targets)\n\u001b[0;32m     11\u001b[0m     loss\u001b[38;5;241m.\u001b[39mbackward()\n\u001b[1;32m---> 12\u001b[0m     \u001b[43moptimizer\u001b[49m\u001b[38;5;241;43m.\u001b[39;49m\u001b[43mstep\u001b[49m\u001b[43m(\u001b[49m\u001b[43m)\u001b[49m\n\u001b[0;32m     13\u001b[0m     running_train_loss \u001b[38;5;241m+\u001b[39m\u001b[38;5;241m=\u001b[39m loss\u001b[38;5;241m.\u001b[39mitem()\n\u001b[0;32m     15\u001b[0m \u001b[38;5;66;03m# Validation phase\u001b[39;00m\n",
      "File \u001b[1;32m~\\AppData\\Local\\Packages\\PythonSoftwareFoundation.Python.3.11_qbz5n2kfra8p0\\LocalCache\\local-packages\\Python311\\site-packages\\torch\\optim\\optimizer.py:385\u001b[0m, in \u001b[0;36mOptimizer.profile_hook_step.<locals>.wrapper\u001b[1;34m(*args, **kwargs)\u001b[0m\n\u001b[0;32m    380\u001b[0m         \u001b[38;5;28;01melse\u001b[39;00m:\n\u001b[0;32m    381\u001b[0m             \u001b[38;5;28;01mraise\u001b[39;00m \u001b[38;5;167;01mRuntimeError\u001b[39;00m(\n\u001b[0;32m    382\u001b[0m                 \u001b[38;5;124mf\u001b[39m\u001b[38;5;124m\"\u001b[39m\u001b[38;5;132;01m{\u001b[39;00mfunc\u001b[38;5;132;01m}\u001b[39;00m\u001b[38;5;124m must return None or a tuple of (new_args, new_kwargs), but got \u001b[39m\u001b[38;5;132;01m{\u001b[39;00mresult\u001b[38;5;132;01m}\u001b[39;00m\u001b[38;5;124m.\u001b[39m\u001b[38;5;124m\"\u001b[39m\n\u001b[0;32m    383\u001b[0m             )\n\u001b[1;32m--> 385\u001b[0m out \u001b[38;5;241m=\u001b[39m \u001b[43mfunc\u001b[49m\u001b[43m(\u001b[49m\u001b[38;5;241;43m*\u001b[39;49m\u001b[43margs\u001b[49m\u001b[43m,\u001b[49m\u001b[43m \u001b[49m\u001b[38;5;241;43m*\u001b[39;49m\u001b[38;5;241;43m*\u001b[39;49m\u001b[43mkwargs\u001b[49m\u001b[43m)\u001b[49m\n\u001b[0;32m    386\u001b[0m \u001b[38;5;28mself\u001b[39m\u001b[38;5;241m.\u001b[39m_optimizer_step_code()\n\u001b[0;32m    388\u001b[0m \u001b[38;5;66;03m# call optimizer step post hooks\u001b[39;00m\n",
      "File \u001b[1;32m~\\AppData\\Local\\Packages\\PythonSoftwareFoundation.Python.3.11_qbz5n2kfra8p0\\LocalCache\\local-packages\\Python311\\site-packages\\torch\\optim\\optimizer.py:76\u001b[0m, in \u001b[0;36m_use_grad_for_differentiable.<locals>._use_grad\u001b[1;34m(self, *args, **kwargs)\u001b[0m\n\u001b[0;32m     74\u001b[0m     torch\u001b[38;5;241m.\u001b[39mset_grad_enabled(\u001b[38;5;28mself\u001b[39m\u001b[38;5;241m.\u001b[39mdefaults[\u001b[38;5;124m'\u001b[39m\u001b[38;5;124mdifferentiable\u001b[39m\u001b[38;5;124m'\u001b[39m])\n\u001b[0;32m     75\u001b[0m     torch\u001b[38;5;241m.\u001b[39m_dynamo\u001b[38;5;241m.\u001b[39mgraph_break()\n\u001b[1;32m---> 76\u001b[0m     ret \u001b[38;5;241m=\u001b[39m \u001b[43mfunc\u001b[49m\u001b[43m(\u001b[49m\u001b[38;5;28;43mself\u001b[39;49m\u001b[43m,\u001b[49m\u001b[43m \u001b[49m\u001b[38;5;241;43m*\u001b[39;49m\u001b[43margs\u001b[49m\u001b[43m,\u001b[49m\u001b[43m \u001b[49m\u001b[38;5;241;43m*\u001b[39;49m\u001b[38;5;241;43m*\u001b[39;49m\u001b[43mkwargs\u001b[49m\u001b[43m)\u001b[49m\n\u001b[0;32m     77\u001b[0m \u001b[38;5;28;01mfinally\u001b[39;00m:\n\u001b[0;32m     78\u001b[0m     torch\u001b[38;5;241m.\u001b[39m_dynamo\u001b[38;5;241m.\u001b[39mgraph_break()\n",
      "File \u001b[1;32m~\\AppData\\Local\\Packages\\PythonSoftwareFoundation.Python.3.11_qbz5n2kfra8p0\\LocalCache\\local-packages\\Python311\\site-packages\\torch\\optim\\adam.py:166\u001b[0m, in \u001b[0;36mAdam.step\u001b[1;34m(self, closure)\u001b[0m\n\u001b[0;32m    155\u001b[0m     beta1, beta2 \u001b[38;5;241m=\u001b[39m group[\u001b[38;5;124m'\u001b[39m\u001b[38;5;124mbetas\u001b[39m\u001b[38;5;124m'\u001b[39m]\n\u001b[0;32m    157\u001b[0m     has_complex \u001b[38;5;241m=\u001b[39m \u001b[38;5;28mself\u001b[39m\u001b[38;5;241m.\u001b[39m_init_group(\n\u001b[0;32m    158\u001b[0m         group,\n\u001b[0;32m    159\u001b[0m         params_with_grad,\n\u001b[1;32m   (...)\u001b[0m\n\u001b[0;32m    163\u001b[0m         max_exp_avg_sqs,\n\u001b[0;32m    164\u001b[0m         state_steps)\n\u001b[1;32m--> 166\u001b[0m     \u001b[43madam\u001b[49m\u001b[43m(\u001b[49m\n\u001b[0;32m    167\u001b[0m \u001b[43m        \u001b[49m\u001b[43mparams_with_grad\u001b[49m\u001b[43m,\u001b[49m\n\u001b[0;32m    168\u001b[0m \u001b[43m        \u001b[49m\u001b[43mgrads\u001b[49m\u001b[43m,\u001b[49m\n\u001b[0;32m    169\u001b[0m \u001b[43m        \u001b[49m\u001b[43mexp_avgs\u001b[49m\u001b[43m,\u001b[49m\n\u001b[0;32m    170\u001b[0m \u001b[43m        \u001b[49m\u001b[43mexp_avg_sqs\u001b[49m\u001b[43m,\u001b[49m\n\u001b[0;32m    171\u001b[0m \u001b[43m        \u001b[49m\u001b[43mmax_exp_avg_sqs\u001b[49m\u001b[43m,\u001b[49m\n\u001b[0;32m    172\u001b[0m \u001b[43m        \u001b[49m\u001b[43mstate_steps\u001b[49m\u001b[43m,\u001b[49m\n\u001b[0;32m    173\u001b[0m \u001b[43m        \u001b[49m\u001b[43mamsgrad\u001b[49m\u001b[38;5;241;43m=\u001b[39;49m\u001b[43mgroup\u001b[49m\u001b[43m[\u001b[49m\u001b[38;5;124;43m'\u001b[39;49m\u001b[38;5;124;43mamsgrad\u001b[39;49m\u001b[38;5;124;43m'\u001b[39;49m\u001b[43m]\u001b[49m\u001b[43m,\u001b[49m\n\u001b[0;32m    174\u001b[0m \u001b[43m        \u001b[49m\u001b[43mhas_complex\u001b[49m\u001b[38;5;241;43m=\u001b[39;49m\u001b[43mhas_complex\u001b[49m\u001b[43m,\u001b[49m\n\u001b[0;32m    175\u001b[0m \u001b[43m        \u001b[49m\u001b[43mbeta1\u001b[49m\u001b[38;5;241;43m=\u001b[39;49m\u001b[43mbeta1\u001b[49m\u001b[43m,\u001b[49m\n\u001b[0;32m    176\u001b[0m \u001b[43m        \u001b[49m\u001b[43mbeta2\u001b[49m\u001b[38;5;241;43m=\u001b[39;49m\u001b[43mbeta2\u001b[49m\u001b[43m,\u001b[49m\n\u001b[0;32m    177\u001b[0m \u001b[43m        \u001b[49m\u001b[43mlr\u001b[49m\u001b[38;5;241;43m=\u001b[39;49m\u001b[43mgroup\u001b[49m\u001b[43m[\u001b[49m\u001b[38;5;124;43m'\u001b[39;49m\u001b[38;5;124;43mlr\u001b[39;49m\u001b[38;5;124;43m'\u001b[39;49m\u001b[43m]\u001b[49m\u001b[43m,\u001b[49m\n\u001b[0;32m    178\u001b[0m \u001b[43m        \u001b[49m\u001b[43mweight_decay\u001b[49m\u001b[38;5;241;43m=\u001b[39;49m\u001b[43mgroup\u001b[49m\u001b[43m[\u001b[49m\u001b[38;5;124;43m'\u001b[39;49m\u001b[38;5;124;43mweight_decay\u001b[39;49m\u001b[38;5;124;43m'\u001b[39;49m\u001b[43m]\u001b[49m\u001b[43m,\u001b[49m\n\u001b[0;32m    179\u001b[0m \u001b[43m        \u001b[49m\u001b[43meps\u001b[49m\u001b[38;5;241;43m=\u001b[39;49m\u001b[43mgroup\u001b[49m\u001b[43m[\u001b[49m\u001b[38;5;124;43m'\u001b[39;49m\u001b[38;5;124;43meps\u001b[39;49m\u001b[38;5;124;43m'\u001b[39;49m\u001b[43m]\u001b[49m\u001b[43m,\u001b[49m\n\u001b[0;32m    180\u001b[0m \u001b[43m        \u001b[49m\u001b[43mmaximize\u001b[49m\u001b[38;5;241;43m=\u001b[39;49m\u001b[43mgroup\u001b[49m\u001b[43m[\u001b[49m\u001b[38;5;124;43m'\u001b[39;49m\u001b[38;5;124;43mmaximize\u001b[39;49m\u001b[38;5;124;43m'\u001b[39;49m\u001b[43m]\u001b[49m\u001b[43m,\u001b[49m\n\u001b[0;32m    181\u001b[0m \u001b[43m        \u001b[49m\u001b[43mforeach\u001b[49m\u001b[38;5;241;43m=\u001b[39;49m\u001b[43mgroup\u001b[49m\u001b[43m[\u001b[49m\u001b[38;5;124;43m'\u001b[39;49m\u001b[38;5;124;43mforeach\u001b[39;49m\u001b[38;5;124;43m'\u001b[39;49m\u001b[43m]\u001b[49m\u001b[43m,\u001b[49m\n\u001b[0;32m    182\u001b[0m \u001b[43m        \u001b[49m\u001b[43mcapturable\u001b[49m\u001b[38;5;241;43m=\u001b[39;49m\u001b[43mgroup\u001b[49m\u001b[43m[\u001b[49m\u001b[38;5;124;43m'\u001b[39;49m\u001b[38;5;124;43mcapturable\u001b[39;49m\u001b[38;5;124;43m'\u001b[39;49m\u001b[43m]\u001b[49m\u001b[43m,\u001b[49m\n\u001b[0;32m    183\u001b[0m \u001b[43m        \u001b[49m\u001b[43mdifferentiable\u001b[49m\u001b[38;5;241;43m=\u001b[39;49m\u001b[43mgroup\u001b[49m\u001b[43m[\u001b[49m\u001b[38;5;124;43m'\u001b[39;49m\u001b[38;5;124;43mdifferentiable\u001b[39;49m\u001b[38;5;124;43m'\u001b[39;49m\u001b[43m]\u001b[49m\u001b[43m,\u001b[49m\n\u001b[0;32m    184\u001b[0m \u001b[43m        \u001b[49m\u001b[43mfused\u001b[49m\u001b[38;5;241;43m=\u001b[39;49m\u001b[43mgroup\u001b[49m\u001b[43m[\u001b[49m\u001b[38;5;124;43m'\u001b[39;49m\u001b[38;5;124;43mfused\u001b[39;49m\u001b[38;5;124;43m'\u001b[39;49m\u001b[43m]\u001b[49m\u001b[43m,\u001b[49m\n\u001b[0;32m    185\u001b[0m \u001b[43m        \u001b[49m\u001b[43mgrad_scale\u001b[49m\u001b[38;5;241;43m=\u001b[39;49m\u001b[38;5;28;43mgetattr\u001b[39;49m\u001b[43m(\u001b[49m\u001b[38;5;28;43mself\u001b[39;49m\u001b[43m,\u001b[49m\u001b[43m \u001b[49m\u001b[38;5;124;43m\"\u001b[39;49m\u001b[38;5;124;43mgrad_scale\u001b[39;49m\u001b[38;5;124;43m\"\u001b[39;49m\u001b[43m,\u001b[49m\u001b[43m \u001b[49m\u001b[38;5;28;43;01mNone\u001b[39;49;00m\u001b[43m)\u001b[49m\u001b[43m,\u001b[49m\n\u001b[0;32m    186\u001b[0m \u001b[43m        \u001b[49m\u001b[43mfound_inf\u001b[49m\u001b[38;5;241;43m=\u001b[39;49m\u001b[38;5;28;43mgetattr\u001b[39;49m\u001b[43m(\u001b[49m\u001b[38;5;28;43mself\u001b[39;49m\u001b[43m,\u001b[49m\u001b[43m \u001b[49m\u001b[38;5;124;43m\"\u001b[39;49m\u001b[38;5;124;43mfound_inf\u001b[39;49m\u001b[38;5;124;43m\"\u001b[39;49m\u001b[43m,\u001b[49m\u001b[43m \u001b[49m\u001b[38;5;28;43;01mNone\u001b[39;49;00m\u001b[43m)\u001b[49m\u001b[43m,\u001b[49m\n\u001b[0;32m    187\u001b[0m \u001b[43m    \u001b[49m\u001b[43m)\u001b[49m\n\u001b[0;32m    189\u001b[0m \u001b[38;5;28;01mreturn\u001b[39;00m loss\n",
      "File \u001b[1;32m~\\AppData\\Local\\Packages\\PythonSoftwareFoundation.Python.3.11_qbz5n2kfra8p0\\LocalCache\\local-packages\\Python311\\site-packages\\torch\\optim\\adam.py:316\u001b[0m, in \u001b[0;36madam\u001b[1;34m(params, grads, exp_avgs, exp_avg_sqs, max_exp_avg_sqs, state_steps, foreach, capturable, differentiable, fused, grad_scale, found_inf, has_complex, amsgrad, beta1, beta2, lr, weight_decay, eps, maximize)\u001b[0m\n\u001b[0;32m    313\u001b[0m \u001b[38;5;28;01melse\u001b[39;00m:\n\u001b[0;32m    314\u001b[0m     func \u001b[38;5;241m=\u001b[39m _single_tensor_adam\n\u001b[1;32m--> 316\u001b[0m \u001b[43mfunc\u001b[49m\u001b[43m(\u001b[49m\u001b[43mparams\u001b[49m\u001b[43m,\u001b[49m\n\u001b[0;32m    317\u001b[0m \u001b[43m     \u001b[49m\u001b[43mgrads\u001b[49m\u001b[43m,\u001b[49m\n\u001b[0;32m    318\u001b[0m \u001b[43m     \u001b[49m\u001b[43mexp_avgs\u001b[49m\u001b[43m,\u001b[49m\n\u001b[0;32m    319\u001b[0m \u001b[43m     \u001b[49m\u001b[43mexp_avg_sqs\u001b[49m\u001b[43m,\u001b[49m\n\u001b[0;32m    320\u001b[0m \u001b[43m     \u001b[49m\u001b[43mmax_exp_avg_sqs\u001b[49m\u001b[43m,\u001b[49m\n\u001b[0;32m    321\u001b[0m \u001b[43m     \u001b[49m\u001b[43mstate_steps\u001b[49m\u001b[43m,\u001b[49m\n\u001b[0;32m    322\u001b[0m \u001b[43m     \u001b[49m\u001b[43mamsgrad\u001b[49m\u001b[38;5;241;43m=\u001b[39;49m\u001b[43mamsgrad\u001b[49m\u001b[43m,\u001b[49m\n\u001b[0;32m    323\u001b[0m \u001b[43m     \u001b[49m\u001b[43mhas_complex\u001b[49m\u001b[38;5;241;43m=\u001b[39;49m\u001b[43mhas_complex\u001b[49m\u001b[43m,\u001b[49m\n\u001b[0;32m    324\u001b[0m \u001b[43m     \u001b[49m\u001b[43mbeta1\u001b[49m\u001b[38;5;241;43m=\u001b[39;49m\u001b[43mbeta1\u001b[49m\u001b[43m,\u001b[49m\n\u001b[0;32m    325\u001b[0m \u001b[43m     \u001b[49m\u001b[43mbeta2\u001b[49m\u001b[38;5;241;43m=\u001b[39;49m\u001b[43mbeta2\u001b[49m\u001b[43m,\u001b[49m\n\u001b[0;32m    326\u001b[0m \u001b[43m     \u001b[49m\u001b[43mlr\u001b[49m\u001b[38;5;241;43m=\u001b[39;49m\u001b[43mlr\u001b[49m\u001b[43m,\u001b[49m\n\u001b[0;32m    327\u001b[0m \u001b[43m     \u001b[49m\u001b[43mweight_decay\u001b[49m\u001b[38;5;241;43m=\u001b[39;49m\u001b[43mweight_decay\u001b[49m\u001b[43m,\u001b[49m\n\u001b[0;32m    328\u001b[0m \u001b[43m     \u001b[49m\u001b[43meps\u001b[49m\u001b[38;5;241;43m=\u001b[39;49m\u001b[43meps\u001b[49m\u001b[43m,\u001b[49m\n\u001b[0;32m    329\u001b[0m \u001b[43m     \u001b[49m\u001b[43mmaximize\u001b[49m\u001b[38;5;241;43m=\u001b[39;49m\u001b[43mmaximize\u001b[49m\u001b[43m,\u001b[49m\n\u001b[0;32m    330\u001b[0m \u001b[43m     \u001b[49m\u001b[43mcapturable\u001b[49m\u001b[38;5;241;43m=\u001b[39;49m\u001b[43mcapturable\u001b[49m\u001b[43m,\u001b[49m\n\u001b[0;32m    331\u001b[0m \u001b[43m     \u001b[49m\u001b[43mdifferentiable\u001b[49m\u001b[38;5;241;43m=\u001b[39;49m\u001b[43mdifferentiable\u001b[49m\u001b[43m,\u001b[49m\n\u001b[0;32m    332\u001b[0m \u001b[43m     \u001b[49m\u001b[43mgrad_scale\u001b[49m\u001b[38;5;241;43m=\u001b[39;49m\u001b[43mgrad_scale\u001b[49m\u001b[43m,\u001b[49m\n\u001b[0;32m    333\u001b[0m \u001b[43m     \u001b[49m\u001b[43mfound_inf\u001b[49m\u001b[38;5;241;43m=\u001b[39;49m\u001b[43mfound_inf\u001b[49m\u001b[43m)\u001b[49m\n",
      "File \u001b[1;32m~\\AppData\\Local\\Packages\\PythonSoftwareFoundation.Python.3.11_qbz5n2kfra8p0\\LocalCache\\local-packages\\Python311\\site-packages\\torch\\optim\\adam.py:439\u001b[0m, in \u001b[0;36m_single_tensor_adam\u001b[1;34m(params, grads, exp_avgs, exp_avg_sqs, max_exp_avg_sqs, state_steps, grad_scale, found_inf, amsgrad, has_complex, beta1, beta2, lr, weight_decay, eps, maximize, capturable, differentiable)\u001b[0m\n\u001b[0;32m    437\u001b[0m         denom \u001b[38;5;241m=\u001b[39m (max_exp_avg_sqs[i]\u001b[38;5;241m.\u001b[39msqrt() \u001b[38;5;241m/\u001b[39m bias_correction2_sqrt)\u001b[38;5;241m.\u001b[39madd_(eps)\n\u001b[0;32m    438\u001b[0m     \u001b[38;5;28;01melse\u001b[39;00m:\n\u001b[1;32m--> 439\u001b[0m         denom \u001b[38;5;241m=\u001b[39m \u001b[43m(\u001b[49m\u001b[43mexp_avg_sq\u001b[49m\u001b[38;5;241;43m.\u001b[39;49m\u001b[43msqrt\u001b[49m\u001b[43m(\u001b[49m\u001b[43m)\u001b[49m\u001b[43m \u001b[49m\u001b[38;5;241;43m/\u001b[39;49m\u001b[43m \u001b[49m\u001b[43mbias_correction2_sqrt\u001b[49m\u001b[43m)\u001b[49m\u001b[38;5;241;43m.\u001b[39;49m\u001b[43madd_\u001b[49m\u001b[43m(\u001b[49m\u001b[43meps\u001b[49m\u001b[43m)\u001b[49m\n\u001b[0;32m    441\u001b[0m     param\u001b[38;5;241m.\u001b[39maddcdiv_(exp_avg, denom, value\u001b[38;5;241m=\u001b[39m\u001b[38;5;241m-\u001b[39mstep_size)\n\u001b[0;32m    443\u001b[0m \u001b[38;5;66;03m# Lastly, switch back to complex view\u001b[39;00m\n",
      "\u001b[1;31mKeyboardInterrupt\u001b[0m: "
     ]
    }
   ],
   "source": [
    "# Training loop with validation\n",
    "num_epochs = 100\n",
    "for epoch in range(num_epochs):\n",
    "    # Training phase\n",
    "    model.train()\n",
    "    running_train_loss = 0.0\n",
    "    for inputs, targets in train_loader:\n",
    "        optimizer.zero_grad()\n",
    "        outputs = model(inputs)\n",
    "        loss = criterion(outputs, targets)\n",
    "        loss.backward()\n",
    "        optimizer.step()\n",
    "        running_train_loss += loss.item()\n",
    "\n",
    "    # Validation phase\n",
    "    model.eval()\n",
    "    running_val_loss = 0.0\n",
    "    with torch.no_grad():\n",
    "        for inputs, targets in val_loader:\n",
    "            outputs = model(inputs)\n",
    "            loss = criterion(outputs, targets)\n",
    "            running_val_loss += loss.item()\n",
    "\n",
    "    # Print epoch progress\n",
    "    print(f\"Epoch {epoch+1}/{num_epochs}, \"\n",
    "          f\"Train Loss: {running_train_loss / len(train_loader):.4f}, \"\n",
    "          f\"Validation Loss: {running_val_loss / len(val_loader):.4f}\")\n"
   ]
  },
  {
   "cell_type": "code",
   "execution_count": null,
   "metadata": {},
   "outputs": [],
   "source": []
  }
 ],
 "metadata": {
  "kernelspec": {
   "display_name": "Python 3",
   "language": "python",
   "name": "python3"
  },
  "language_info": {
   "codemirror_mode": {
    "name": "ipython",
    "version": 3
   },
   "file_extension": ".py",
   "mimetype": "text/x-python",
   "name": "python",
   "nbconvert_exporter": "python",
   "pygments_lexer": "ipython3",
   "version": "3.11.9"
  }
 },
 "nbformat": 4,
 "nbformat_minor": 2
}
