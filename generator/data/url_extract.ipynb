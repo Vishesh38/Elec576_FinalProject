{
 "cells": [
  {
   "cell_type": "code",
   "execution_count": 2,
   "metadata": {},
   "outputs": [],
   "source": [
    "import pandas as pd\n",
    "from urllib.parse import urlparse"
   ]
  },
  {
   "cell_type": "markdown",
   "metadata": {},
   "source": [
    "## kaggle data processing"
   ]
  },
  {
   "cell_type": "code",
   "execution_count": 31,
   "metadata": {},
   "outputs": [],
   "source": [
    "filepath = 'dataset_phishing.csv'\n",
    "\n",
    "data = pd.read_csv(filepath)"
   ]
  },
  {
   "cell_type": "code",
   "execution_count": 32,
   "metadata": {},
   "outputs": [],
   "source": [
    "data = data[data['status'] == 'legitimate']\n",
    "\n",
    "legit_urls = data.url\n",
    "\n",
    "legit_urls.to_csv('legit_urls_untrimmed.csv')"
   ]
  },
  {
   "cell_type": "markdown",
   "metadata": {},
   "source": [
    "## UCI dataset processing"
   ]
  },
  {
   "cell_type": "code",
   "execution_count": 17,
   "metadata": {},
   "outputs": [],
   "source": [
    "filepath = 'real-and-phishing_original.csv'\n",
    "\n",
    "data = pd.read_csv(filepath)"
   ]
  },
  {
   "cell_type": "code",
   "execution_count": 18,
   "metadata": {},
   "outputs": [],
   "source": [
    "data.columns = [f\"col_{i}\" for i in range(data.shape[1])]\n",
    "data = data[data['col_54'] == 1]  # Filter real URLs\n",
    "\n",
    "legit_urls = data.col_0"
   ]
  },
  {
   "cell_type": "code",
   "execution_count": 19,
   "metadata": {},
   "outputs": [],
   "source": [
    "legit_urls.to_csv('legit_urls_uciset.csv', index=False)\n",
    "\n"
   ]
  },
  {
   "cell_type": "code",
   "execution_count": 6,
   "metadata": {},
   "outputs": [],
   "source": [
    "def extract_domain_name(url):\n",
    "    parsed_url = urlparse(url)\n",
    "    hostname = parsed_url.hostname or ''\n",
    "    # Remove 'www.' if it exists\n",
    "    domain_parts = hostname.split('.')\n",
    "    # Return the second-to-last part of the domain (i.e., the main domain name)\n",
    "    return domain_parts[-2] if len(domain_parts) > 1 else hostname\n",
    "\n",
    "# Apply function to the column\n",
    "legit_domain_names = legit_urls.apply(extract_domain_name)\n",
    "\n",
    "legit_domain_names.to_csv('leg_domain_names.csv', index=False)"
   ]
  },
  {
   "cell_type": "code",
   "execution_count": null,
   "metadata": {},
   "outputs": [],
   "source": []
  }
 ],
 "metadata": {
  "kernelspec": {
   "display_name": "base",
   "language": "python",
   "name": "python3"
  },
  "language_info": {
   "codemirror_mode": {
    "name": "ipython",
    "version": 3
   },
   "file_extension": ".py",
   "mimetype": "text/x-python",
   "name": "python",
   "nbconvert_exporter": "python",
   "pygments_lexer": "ipython3",
   "version": "3.12.7"
  }
 },
 "nbformat": 4,
 "nbformat_minor": 2
}
